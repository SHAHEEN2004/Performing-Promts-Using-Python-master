{
 "cells": [
  {
   "cell_type": "code",
   "execution_count": 1,
   "id": "7deafc70",
   "metadata": {},
   "outputs": [
    {
     "name": "stdout",
     "output_type": "stream",
     "text": [
      "House found!\n",
      "Lead added!\n",
      "Call logged!\n",
      "Excel operations performed!\n",
      "Refrigerator found!\n",
      "Actor age retrieved!\n",
      "Email validity checked!\n"
     ]
    }
   ],
   "source": [
    "import requests\n",
    "from bs4 import BeautifulSoup\n",
    "import pandas as pd\n",
    "from simple_salesforce import Salesforce\n",
    "\n",
    "# Task 1: Find a house in Houston within the budget using Redfin\n",
    "def find_house():\n",
    "    url = 'https://www.redfin.com/'\n",
    "    response = requests.get(url)\n",
    "    soup = BeautifulSoup(response.content, 'html.parser')\n",
    "    # Implement web scraping to search for houses in Houston\n",
    "    # with the given budget and return the results\n",
    "    print(\"House found!\")\n",
    "\n",
    "# Task 2: Add Max Nye at Workplete as the new lead in Salesforce\n",
    "def add_lead():\n",
    "    sf = Salesforce(username='dhanushgollavilli02@curious-goat-en47oi.com', password='shaheenG22', security_token='IepNGYrlKuCE3PMMeMHty1S9')\n",
    "    # Use the Salesforce API to add Max Nye as a new lead in Workplete\n",
    "    print(\"Lead added!\")\n",
    "\n",
    "# Task 3: Log a call with James Veel saying that he is looking to buy 100 widgets in Salesforce\n",
    "def log_call():\n",
    "    sf = Salesforce(username='dhanushgollavilli02@curious-goat-en47oi.com', password='shaheenG22', security_token='IepNGYrlKuCE3PMMeMHty1S9')\n",
    "    # Use the Salesforce API to log a call with James Veel mentioning his requirement of 100 widgets\n",
    "    print(\"Call logged!\")\n",
    "\n",
    "# Task 4: Perform operations on an Excel sheet\n",
    "def excel_operations():\n",
    "    url = 'https://docs.google.com/spreadsheets/d/1krPfWvpmqdrTWDQhhj5Hu2bRjhEnaDBbEwtt1Xx08Ew/export?format=csv'\n",
    "    df = pd.read_csv(url)\n",
    "    # Perform operations on the Excel sheet such as adding profit and profit margin columns,\n",
    "    # highlighting rows, filtering data, calculating average profit margin, etc.\n",
    "    print(\"Excel operations performed!\")\n",
    "\n",
    "# Task 5: Find a refrigerator under 1k on Craigslist and send a message to the seller\n",
    "def find_refrigerator():\n",
    "    url = 'https://sfbay.craigslist.org/search/sss?query=refrigerator&max_price=1000'\n",
    "    response = requests.get(url)\n",
    "    soup = BeautifulSoup(response.content, 'html.parser')\n",
    "    # Implement web scraping to search for a refrigerator under 1k on Craigslist\n",
    "    # and send a message to the seller requesting pickup tomorrow\n",
    "    print(\"Refrigerator found!\")\n",
    "\n",
    "# Task 6: Get the age of the actor who played Mace Windu in Star Wars from Wikipedia\n",
    "def get_actor_age():\n",
    "    url = 'https://en.wikipedia.org/wiki/Mace_Windu'\n",
    "    response = requests.get(url)\n",
    "    soup = BeautifulSoup(response.content, 'html.parser')\n",
    "    # Implement web scraping to get the age of the actor who played Mace Windu in Star Wars\n",
    "    print(\"Actor age retrieved!\")\n",
    "\n",
    "# Task 7: Check if personal email is valid in an Excel sheet\n",
    "def check_email_validity():\n",
    "    url = 'https://docs.google.com/spreadsheets/d/1FTjNnUTJHI8EhTF7CDtiEEJ3l-eFaVdjuPTS1yyJTfk/export?format=csv'\n",
    "    df = pd.read_csv(url)\n",
    "    # Implement code to check if the personal email is valid\n",
    "    # You can use regular expressions or libraries like validate_email to validate email addresses\n",
    "    print(\"Email validity checked!\")\n",
    "\n",
    "# Execute the tasks\n",
    "find_house()  # Prompt: \"Find me a house in Houston that works for 4. My budget is 600k\"\n",
    "add_lead()  # Prompt: \"Add Max Nye at Workplete as the new lead\"\n",
    "log_call()  # Prompt: \"Log a call with James Veel saying that he is looking to buy 100 widgets\"\n",
    "excel_operations()  # Prompt: \"Make a profit column and then make a profit margin column\"\n",
    "find_refrigerator()  # Prompt: \"Find me a Refrigerator Under 1k\"\n",
    "get_actor_age()  # Prompt: \"How old is the actor in Mace Windu who played Star Wars\"\n",
    "check_email_validity()  # Prompt: \"Can you create a new column that checks if the personal email is valid or not?\"\n"
   ]
  },
  {
   "cell_type": "code",
   "execution_count": 2,
   "id": "f6acc628",
   "metadata": {},
   "outputs": [
    {
     "name": "stdout",
     "output_type": "stream",
     "text": [
      "Requirement already satisfied: simple-salesforce in c:\\users\\dhanu\\anaconda3\\lib\\site-packages (1.12.4)\n",
      "Requirement already satisfied: zeep in c:\\users\\dhanu\\anaconda3\\lib\\site-packages (from simple-salesforce) (4.2.1)\n",
      "Requirement already satisfied: pyjwt in c:\\users\\dhanu\\anaconda3\\lib\\site-packages (from simple-salesforce) (2.4.0)\n",
      "Requirement already satisfied: requests>=2.22.0 in c:\\users\\dhanu\\anaconda3\\lib\\site-packages (from simple-salesforce) (2.28.1)\n",
      "Requirement already satisfied: cryptography in c:\\users\\dhanu\\anaconda3\\lib\\site-packages (from simple-salesforce) (37.0.1)\n",
      "Requirement already satisfied: charset-normalizer<3,>=2 in c:\\users\\dhanu\\anaconda3\\lib\\site-packages (from requests>=2.22.0->simple-salesforce) (2.0.4)\n",
      "Requirement already satisfied: certifi>=2017.4.17 in c:\\users\\dhanu\\anaconda3\\lib\\site-packages (from requests>=2.22.0->simple-salesforce) (2022.9.14)\n",
      "Requirement already satisfied: urllib3<1.27,>=1.21.1 in c:\\users\\dhanu\\anaconda3\\lib\\site-packages (from requests>=2.22.0->simple-salesforce) (1.26.11)\n",
      "Requirement already satisfied: idna<4,>=2.5 in c:\\users\\dhanu\\anaconda3\\lib\\site-packages (from requests>=2.22.0->simple-salesforce) (3.3)\n",
      "Requirement already satisfied: cffi>=1.12 in c:\\users\\dhanu\\anaconda3\\lib\\site-packages (from cryptography->simple-salesforce) (1.15.1)\n",
      "Requirement already satisfied: requests-file>=1.5.1 in c:\\users\\dhanu\\anaconda3\\lib\\site-packages (from zeep->simple-salesforce) (1.5.1)\n",
      "Requirement already satisfied: lxml>=4.6.0 in c:\\users\\dhanu\\anaconda3\\lib\\site-packages (from zeep->simple-salesforce) (4.9.1)\n",
      "Requirement already satisfied: platformdirs>=1.4.0 in c:\\users\\dhanu\\anaconda3\\lib\\site-packages (from zeep->simple-salesforce) (2.5.2)\n",
      "Requirement already satisfied: isodate>=0.5.4 in c:\\users\\dhanu\\anaconda3\\lib\\site-packages (from zeep->simple-salesforce) (0.6.1)\n",
      "Requirement already satisfied: pytz in c:\\users\\dhanu\\anaconda3\\lib\\site-packages (from zeep->simple-salesforce) (2022.1)\n",
      "Requirement already satisfied: requests-toolbelt>=0.7.1 in c:\\users\\dhanu\\anaconda3\\lib\\site-packages (from zeep->simple-salesforce) (1.0.0)\n",
      "Requirement already satisfied: attrs>=17.2.0 in c:\\users\\dhanu\\anaconda3\\lib\\site-packages (from zeep->simple-salesforce) (21.4.0)\n",
      "Requirement already satisfied: pycparser in c:\\users\\dhanu\\anaconda3\\lib\\site-packages (from cffi>=1.12->cryptography->simple-salesforce) (2.21)\n",
      "Requirement already satisfied: six in c:\\users\\dhanu\\anaconda3\\lib\\site-packages (from isodate>=0.5.4->zeep->simple-salesforce) (1.16.0)\n",
      "Note: you may need to restart the kernel to use updated packages.\n"
     ]
    }
   ],
   "source": []
  },
  {
   "cell_type": "code",
   "execution_count": null,
   "id": "e90bbbb8",
   "metadata": {},
   "outputs": [],
   "source": []
  }
 ],
 "metadata": {
  "kernelspec": {
   "display_name": "Python 3 (ipykernel)",
   "language": "python",
   "name": "python3"
  },
  "language_info": {
   "codemirror_mode": {
    "name": "ipython",
    "version": 3
   },
   "file_extension": ".py",
   "mimetype": "text/x-python",
   "name": "python",
   "nbconvert_exporter": "python",
   "pygments_lexer": "ipython3",
   "version": "3.10.9"
  }
 },
 "nbformat": 4,
 "nbformat_minor": 5
}
